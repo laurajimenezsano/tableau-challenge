{
 "cells": [
  {
   "cell_type": "code",
   "execution_count": 1,
   "metadata": {},
   "outputs": [],
   "source": [
    "import pandas as pd\n",
    "from glob import glob"
   ]
  },
  {
   "cell_type": "code",
   "execution_count": 2,
   "metadata": {},
   "outputs": [
    {
     "data": {
      "text/plain": [
       "['Resources/JC-202102-citibike-tripdata.csv',\n",
       " 'Resources/JC-202103-citibike-tripdata.csv',\n",
       " 'Resources/JC-202104-citibike-tripdata.csv',\n",
       " 'Resources/JC-202105-citibike-tripdata.csv',\n",
       " 'Resources/JC-202106-citibike-tripdata.csv',\n",
       " 'Resources/JC-202107-citibike-tripdata.csv']"
      ]
     },
     "execution_count": 2,
     "metadata": {},
     "output_type": "execute_result"
    }
   ],
   "source": [
    "bike_data = sorted(glob('Resources/JC-*-citibike-tripdata.csv'))\n",
    "bike_data"
   ]
  },
  {
   "cell_type": "code",
   "execution_count": 3,
   "metadata": {},
   "outputs": [],
   "source": [
    "concat_data = pd.concat((pd.read_csv(file).assign(filename = file)\n",
    "          for file in bike_data), ignore_index = True)"
   ]
  },
  {
   "cell_type": "code",
   "execution_count": 4,
   "metadata": {},
   "outputs": [
    {
     "data": {
      "text/html": [
       "<div>\n",
       "<style scoped>\n",
       "    .dataframe tbody tr th:only-of-type {\n",
       "        vertical-align: middle;\n",
       "    }\n",
       "\n",
       "    .dataframe tbody tr th {\n",
       "        vertical-align: top;\n",
       "    }\n",
       "\n",
       "    .dataframe thead th {\n",
       "        text-align: right;\n",
       "    }\n",
       "</style>\n",
       "<table border=\"1\" class=\"dataframe\">\n",
       "  <thead>\n",
       "    <tr style=\"text-align: right;\">\n",
       "      <th></th>\n",
       "      <th>ride_id</th>\n",
       "      <th>rideable_type</th>\n",
       "      <th>started_at</th>\n",
       "      <th>ended_at</th>\n",
       "      <th>start_station_name</th>\n",
       "      <th>start_station_id</th>\n",
       "      <th>end_station_name</th>\n",
       "      <th>end_station_id</th>\n",
       "      <th>start_lat</th>\n",
       "      <th>start_lng</th>\n",
       "      <th>end_lat</th>\n",
       "      <th>end_lng</th>\n",
       "      <th>member_casual</th>\n",
       "      <th>filename</th>\n",
       "    </tr>\n",
       "  </thead>\n",
       "  <tbody>\n",
       "    <tr>\n",
       "      <th>0</th>\n",
       "      <td>121DD7DD23CB1335</td>\n",
       "      <td>docked_bike</td>\n",
       "      <td>2021-02-03 23:11:28</td>\n",
       "      <td>2021-02-03 23:18:28</td>\n",
       "      <td>Hoboken Ave at Monmouth St</td>\n",
       "      <td>JC105</td>\n",
       "      <td>Christ Hospital</td>\n",
       "      <td>JC034</td>\n",
       "      <td>40.735208</td>\n",
       "      <td>-74.046964</td>\n",
       "      <td>40.734786</td>\n",
       "      <td>-74.050444</td>\n",
       "      <td>member</td>\n",
       "      <td>Resources/JC-202102-citibike-tripdata.csv</td>\n",
       "    </tr>\n",
       "    <tr>\n",
       "      <th>1</th>\n",
       "      <td>FD73FB85F008349D</td>\n",
       "      <td>docked_bike</td>\n",
       "      <td>2021-02-27 16:34:05</td>\n",
       "      <td>2021-02-27 16:56:40</td>\n",
       "      <td>Newport Pkwy</td>\n",
       "      <td>JC008</td>\n",
       "      <td>Marin Light Rail</td>\n",
       "      <td>JC013</td>\n",
       "      <td>40.728744</td>\n",
       "      <td>-74.032108</td>\n",
       "      <td>40.714584</td>\n",
       "      <td>-74.042817</td>\n",
       "      <td>member</td>\n",
       "      <td>Resources/JC-202102-citibike-tripdata.csv</td>\n",
       "    </tr>\n",
       "    <tr>\n",
       "      <th>2</th>\n",
       "      <td>39F9E6663CB5FDF6</td>\n",
       "      <td>docked_bike</td>\n",
       "      <td>2021-02-26 23:16:04</td>\n",
       "      <td>2021-02-26 23:22:25</td>\n",
       "      <td>Journal Square</td>\n",
       "      <td>JC103</td>\n",
       "      <td>Baldwin at Montgomery</td>\n",
       "      <td>JC020</td>\n",
       "      <td>40.733670</td>\n",
       "      <td>-74.062500</td>\n",
       "      <td>40.723659</td>\n",
       "      <td>-74.064194</td>\n",
       "      <td>member</td>\n",
       "      <td>Resources/JC-202102-citibike-tripdata.csv</td>\n",
       "    </tr>\n",
       "    <tr>\n",
       "      <th>3</th>\n",
       "      <td>A64745CB0792EC6F</td>\n",
       "      <td>docked_bike</td>\n",
       "      <td>2021-02-24 16:51:50</td>\n",
       "      <td>2021-02-24 17:16:09</td>\n",
       "      <td>Hoboken Ave at Monmouth St</td>\n",
       "      <td>JC105</td>\n",
       "      <td>Hoboken Ave at Monmouth St</td>\n",
       "      <td>JC105</td>\n",
       "      <td>40.735208</td>\n",
       "      <td>-74.046963</td>\n",
       "      <td>40.735208</td>\n",
       "      <td>-74.046964</td>\n",
       "      <td>casual</td>\n",
       "      <td>Resources/JC-202102-citibike-tripdata.csv</td>\n",
       "    </tr>\n",
       "    <tr>\n",
       "      <th>4</th>\n",
       "      <td>75CC76EB9543764A</td>\n",
       "      <td>docked_bike</td>\n",
       "      <td>2021-02-24 20:44:16</td>\n",
       "      <td>2021-02-24 20:44:46</td>\n",
       "      <td>Hoboken Ave at Monmouth St</td>\n",
       "      <td>JC105</td>\n",
       "      <td>Hoboken Ave at Monmouth St</td>\n",
       "      <td>JC105</td>\n",
       "      <td>40.735208</td>\n",
       "      <td>-74.046963</td>\n",
       "      <td>40.735208</td>\n",
       "      <td>-74.046964</td>\n",
       "      <td>member</td>\n",
       "      <td>Resources/JC-202102-citibike-tripdata.csv</td>\n",
       "    </tr>\n",
       "  </tbody>\n",
       "</table>\n",
       "</div>"
      ],
      "text/plain": [
       "            ride_id rideable_type           started_at             ended_at  \\\n",
       "0  121DD7DD23CB1335   docked_bike  2021-02-03 23:11:28  2021-02-03 23:18:28   \n",
       "1  FD73FB85F008349D   docked_bike  2021-02-27 16:34:05  2021-02-27 16:56:40   \n",
       "2  39F9E6663CB5FDF6   docked_bike  2021-02-26 23:16:04  2021-02-26 23:22:25   \n",
       "3  A64745CB0792EC6F   docked_bike  2021-02-24 16:51:50  2021-02-24 17:16:09   \n",
       "4  75CC76EB9543764A   docked_bike  2021-02-24 20:44:16  2021-02-24 20:44:46   \n",
       "\n",
       "           start_station_name start_station_id            end_station_name  \\\n",
       "0  Hoboken Ave at Monmouth St            JC105             Christ Hospital   \n",
       "1                Newport Pkwy            JC008            Marin Light Rail   \n",
       "2              Journal Square            JC103       Baldwin at Montgomery   \n",
       "3  Hoboken Ave at Monmouth St            JC105  Hoboken Ave at Monmouth St   \n",
       "4  Hoboken Ave at Monmouth St            JC105  Hoboken Ave at Monmouth St   \n",
       "\n",
       "  end_station_id  start_lat  start_lng    end_lat    end_lng member_casual  \\\n",
       "0          JC034  40.735208 -74.046964  40.734786 -74.050444        member   \n",
       "1          JC013  40.728744 -74.032108  40.714584 -74.042817        member   \n",
       "2          JC020  40.733670 -74.062500  40.723659 -74.064194        member   \n",
       "3          JC105  40.735208 -74.046963  40.735208 -74.046964        casual   \n",
       "4          JC105  40.735208 -74.046963  40.735208 -74.046964        member   \n",
       "\n",
       "                                    filename  \n",
       "0  Resources/JC-202102-citibike-tripdata.csv  \n",
       "1  Resources/JC-202102-citibike-tripdata.csv  \n",
       "2  Resources/JC-202102-citibike-tripdata.csv  \n",
       "3  Resources/JC-202102-citibike-tripdata.csv  \n",
       "4  Resources/JC-202102-citibike-tripdata.csv  "
      ]
     },
     "execution_count": 4,
     "metadata": {},
     "output_type": "execute_result"
    }
   ],
   "source": [
    "concat_data.head()"
   ]
  },
  {
   "cell_type": "code",
   "execution_count": 5,
   "metadata": {},
   "outputs": [],
   "source": [
    "concat_data['filename'] = [x[13:17] + '-' + x[17:19] for x in concat_data['filename']]"
   ]
  },
  {
   "cell_type": "code",
   "execution_count": 10,
   "metadata": {},
   "outputs": [],
   "source": [
    "concat_data = concat_data.rename(columns={\"filename\": \"date\"})"
   ]
  },
  {
   "cell_type": "code",
   "execution_count": 11,
   "metadata": {},
   "outputs": [],
   "source": [
    "concat_data.to_csv(\"concat_bike.csv\", index = False)"
   ]
  },
  {
   "cell_type": "code",
   "execution_count": null,
   "metadata": {},
   "outputs": [],
   "source": []
  }
 ],
 "metadata": {
  "kernelspec": {
   "display_name": "Python 3",
   "language": "python",
   "name": "python3"
  },
  "language_info": {
   "codemirror_mode": {
    "name": "ipython",
    "version": 3
   },
   "file_extension": ".py",
   "mimetype": "text/x-python",
   "name": "python",
   "nbconvert_exporter": "python",
   "pygments_lexer": "ipython3",
   "version": "3.8.5"
  }
 },
 "nbformat": 4,
 "nbformat_minor": 4
}
